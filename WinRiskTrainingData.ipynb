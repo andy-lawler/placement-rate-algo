{
 "cells": [
  {
   "cell_type": "code",
   "execution_count": null,
   "metadata": {
    "collapsed": true
   },
   "outputs": [],
   "source": [
    "%matplotlib inline\n",
    "#libraries for visualization and matrix/functions\n",
    "import matplotlib\n",
    "import numpy as np\n",
    "import matplotlib.pyplot as plt\n",
    "\n",
    "#pandas is like dplyr/tidyr, vertica_python is needed to connect with vertica\n",
    "from config import v_user, v_password\n",
    "import pandas as pd\n",
    "import vertica_python\n",
    "import matplotlib.pyplot as plt\n",
    "conn_info = {'host': 'devlx206',\n",
    "             'port': 5433,\n",
    "             'user': v_user,\n",
    "             'password': v_password,\n",
    "             'database': 'advana',\n",
    "             # 10 minutes timeout on queries\n",
    "             'read_timeout': 600,\n",
    "             # default throw error on invalid UTF-8 results\n",
    "             'unicode_error': 'strict',\n",
    "             # SSL is disabled by default\n",
    "             'ssl': True}\n",
    "             \n",
    "# simple connection, with manual close\n",
    "connection = vertica_python.connect(**conn_info)\n",
    "cur = connection.cursor()"
   ]
  },
  {
   "cell_type": "code",
   "execution_count": 6,
   "metadata": {
    "collapsed": false
   },
   "outputs": [],
   "source": [
    "#Pull Down data from current model using SQL\n",
    "query = '''\n",
    "select\n",
    "    a.name_polnum as polnum,\n",
    "    a.name_firstname as fn,\n",
    "    a.name_lastname as ln,\n",
    "    a.name_idnumber as ssn,\n",
    "    h.iss_dt,\n",
    "    h.rptd_dt,\n",
    "    d.sum_entrydate,\n",
    "    d.sum_dateaction,\n",
    "    d.sum_agentcode,\n",
    "    d.sum_agency_code,\n",
    "    d.sum_status as status,\n",
    "    d.sum_app_type as app_type\n",
    "from\n",
    "    winrisk.Name a\n",
    "LEFT JOIN    winrisk.summary d on a.name_polnum = d.sum_polnum\n",
    "\n",
    "LEFT JOIN    (select\n",
    "    policy_no,\n",
    "    min(case when value2='MAIL' then date_occured else cast('9999-12-31' as date) end) as iss_dt,\n",
    "    min(case when value2='RPTD' then date_occured else cast('9999-12-31' as date) end) as rptd_dt\n",
    "from\n",
    "    winrisk.Policy_Events \n",
    "group by\n",
    "    policy_no) h on a.name_polnum = h.policy_no\n",
    "where\n",
    "    a.name_role = 1;'''\n",
    "PolData = pd.read_sql(query, connection)\n",
    "PolData.to_csv(\"TrainingData.csv\")"
   ]
  },
  {
   "cell_type": "code",
   "execution_count": null,
   "metadata": {
    "collapsed": true
   },
   "outputs": [],
   "source": []
  }
 ],
 "metadata": {
  "kernelspec": {
   "display_name": "Python 3",
   "language": "python",
   "name": "python3"
  },
  "language_info": {
   "codemirror_mode": {
    "name": "ipython",
    "version": 3
   },
   "file_extension": ".py",
   "mimetype": "text/x-python",
   "name": "python",
   "nbconvert_exporter": "python",
   "pygments_lexer": "ipython3",
   "version": "3.6.0"
  }
 },
 "nbformat": 4,
 "nbformat_minor": 0
}
